{
 "cells": [
  {
   "cell_type": "code",
   "execution_count": 24,
   "metadata": {
    "colab": {
     "base_uri": "https://localhost:8080/",
     "height": 385
    },
    "id": "ASuipxsCKyI4",
    "outputId": "4042927f-0261-4df5-c69d-4bcec1986061"
   },
   "outputs": [],
   "source": [
    "# Import OTF data pre-processing library and pandas\n",
    "import OTF_data_processing_functions as otf\n",
    "import pandas as pd\n",
    "from collections import Counter\n",
    "import matplotlib.pyplot as plt"
   ]
  },
  {
   "cell_type": "code",
   "execution_count": 2,
   "metadata": {
    "colab": {
     "base_uri": "https://localhost:8080/",
     "height": 385
    },
    "id": "ASuipxsCKyI4",
    "outputId": "4042927f-0261-4df5-c69d-4bcec1986061"
   },
   "outputs": [
    {
     "name": "stdout",
     "output_type": "stream",
     "text": [
      "## Extracting Contacts\n"
     ]
    }
   ],
   "source": [
    "# Extraction\n",
    "print(\"## Extracting Contacts\")"
   ]
  },
  {
   "cell_type": "code",
   "execution_count": 3,
   "metadata": {
    "colab": {
     "base_uri": "https://localhost:8080/",
     "height": 385
    },
    "id": "ASuipxsCKyI4",
    "outputId": "4042927f-0261-4df5-c69d-4bcec1986061"
   },
   "outputs": [
    {
     "name": "stdout",
     "output_type": "stream",
     "text": [
      "Starting contact collection...\n",
      "Making API request to https://api.hubapi.com/crm/v3/objects/contacts/search\n",
      "Collected 6936 contacts.\n",
      "Total requests: 70\n",
      "Total execution time: 37.23219299316406 seconds\n",
      "Total Contacts: 6936\n"
     ]
    }
   ],
   "source": [
    "api_key = \"pat-na1-3c7b0af9-bb66-40e7-a256-ce4c5eb27e81\"\n",
    "contacts = otf.contact_collection(api_key)\n",
    "\n",
    "print(f\"Total Contacts: {len(contacts)}\")"
   ]
  },
  {
   "cell_type": "code",
   "execution_count": 4,
   "metadata": {
    "colab": {
     "base_uri": "https://localhost:8080/",
     "height": 385
    },
    "id": "ASuipxsCKyI4",
    "outputId": "4042927f-0261-4df5-c69d-4bcec1986061"
   },
   "outputs": [
    {
     "name": "stdout",
     "output_type": "stream",
     "text": [
      "{'id': '416102', 'properties': {'address': 'Blackpool  Rue, 6576', 'country': 'Waterford', 'createdate': '2023-05-15T02:39:02.002Z', 'hs_object_id': '416102', 'industry': 'Poultry and fish', 'lastmodifieddate': '2023-09-16T10:56:44.913Z', 'phone': '0-774-386-624', 'raw_email': 'Zoe <zoe_owen450104633@acrit.org> Contact Info.', 'technical_test___create_date': '2021-07-13'}, 'createdAt': '2023-05-15T02:39:02.002Z', 'updatedAt': '2023-09-16T10:56:44.913Z', 'archived': False}\n"
     ]
    }
   ],
   "source": [
    "# Show an exaxmple of extracted contacts\n",
    "print(contacts[0])"
   ]
  },
  {
   "cell_type": "code",
   "execution_count": 5,
   "metadata": {
    "colab": {
     "base_uri": "https://localhost:8080/",
     "height": 385
    },
    "id": "ASuipxsCKyI4",
    "outputId": "4042927f-0261-4df5-c69d-4bcec1986061"
   },
   "outputs": [
    {
     "name": "stdout",
     "output_type": "stream",
     "text": [
      "## Transforming Contacts\n"
     ]
    }
   ],
   "source": [
    "# Transformation\n",
    "print(\"## Transforming Contacts\")"
   ]
  },
  {
   "cell_type": "code",
   "execution_count": 6,
   "metadata": {
    "colab": {
     "base_uri": "https://localhost:8080/",
     "height": 385
    },
    "id": "ASuipxsCKyI4",
    "outputId": "4042927f-0261-4df5-c69d-4bcec1986061"
   },
   "outputs": [
    {
     "name": "stdout",
     "output_type": "stream",
     "text": [
      "Warning: Could not extract a name from 'raw_email' for contact 451191.\n",
      "Warning: Could not extract a name from 'raw_email' for contact 460672.\n",
      "Warning: Could not extract a name from 'raw_email' for contact 461714.\n",
      "Warning: Could not extract a name from 'raw_email' for contact 462002.\n",
      "Warning: Could not extract a name from 'raw_email' for contact 462251.\n",
      "Warning: Could not extract a name from 'raw_email' for contact 446594.\n",
      "Warning: Could not extract a name from 'raw_email' for contact 448196.\n",
      "Warning: Could not extract a name from 'raw_email' for contact 458527.\n",
      "Warning: Could not extract a name from 'raw_email' for contact 459668.\n",
      "Warning: Could not extract a name from 'raw_email' for contact 459681.\n",
      "Warning: Could not extract a name from 'raw_email' for contact 460452.\n",
      "Warning: Could not extract a name from 'raw_email' for contact 460606.\n",
      "Warning: Could not extract a name from 'raw_email' for contact 460661.\n",
      "Warning: Could not extract a name from 'raw_email' for contact 460904.\n",
      "Warning: Could not extract a name from 'raw_email' for contact 461754.\n",
      "Warning: Could not extract a name from 'raw_email' for contact 463552.\n",
      "Warning: Could not extract a name from 'raw_email' for contact 463703.\n",
      "Warning: Could not extract a name from 'raw_email' for contact 454577.\n",
      "Warning: Could not extract a name from 'raw_email' for contact 457515.\n",
      "Warning: Could not extract a name from 'raw_email' for contact 459026.\n",
      "Warning: Could not extract a name from 'raw_email' for contact 461104.\n",
      "Warning: Could not extract a name from 'raw_email' for contact 461109.\n",
      "Warning: Could not extract a name from 'raw_email' for contact 461375.\n",
      "Warning: Could not extract a name from 'raw_email' for contact 447091.\n",
      "Warning: Could not extract a name from 'raw_email' for contact 454150.\n",
      "Warning: Could not extract a name from 'raw_email' for contact 454583.\n",
      "Warning: Could not extract a name from 'raw_email' for contact 457911.\n",
      "Warning: Could not extract a name from 'raw_email' for contact 460393.\n",
      "Warning: Could not extract a name from 'raw_email' for contact 460659.\n",
      "Warning: Could not extract a name from 'raw_email' for contact 460908.\n",
      "Warning: Could not extract a name from 'raw_email' for contact 461373.\n",
      "Warning: Could not extract a name from 'raw_email' for contact 457618.\n",
      "Warning: Could not extract a name from 'raw_email' for contact 457940.\n",
      "Warning: Could not extract a name from 'raw_email' for contact 458525.\n",
      "Warning: Could not extract a name from 'raw_email' for contact 460166.\n",
      "Warning: Could not extract a name from 'raw_email' for contact 460382.\n",
      "Warning: Could not extract a name from 'raw_email' for contact 460461.\n",
      "Warning: Could not extract a name from 'raw_email' for contact 461510.\n",
      "Warning: Could not extract a name from 'raw_email' for contact 461601.\n",
      "Warning: Could not extract a name from 'raw_email' for contact 461756.\n",
      "Warning: Could not extract a name from 'raw_email' for contact 462764.\n",
      "Warning: Could not extract a name from 'raw_email' for contact 454841.\n",
      "Warning: Could not extract a name from 'raw_email' for contact 454967.\n",
      "Warning: Could not extract a name from 'raw_email' for contact 457523.\n",
      "Warning: Could not extract a name from 'raw_email' for contact 459700.\n",
      "Warning: Could not extract a name from 'raw_email' for contact 460352.\n",
      "Warning: Could not extract a name from 'raw_email' for contact 461001.\n",
      "Warning: Could not extract a name from 'raw_email' for contact 461105.\n",
      "Warning: Could not extract a name from 'raw_email' for contact 461508.\n",
      "Warning: Could not extract a name from 'raw_email' for contact 461704.\n",
      "Warning: Could not extract a name from 'raw_email' for contact 462005.\n",
      "Warning: Could not extract a name from 'raw_email' for contact 462402.\n",
      "Warning: Could not extract a name from 'raw_email' for contact 451192.\n",
      "Warning: Could not extract a name from 'raw_email' for contact 454850.\n",
      "Warning: Could not extract a name from 'raw_email' for contact 454995.\n",
      "Warning: Could not extract a name from 'raw_email' for contact 455787.\n",
      "Warning: Could not extract a name from 'raw_email' for contact 459007.\n",
      "Warning: Could not extract a name from 'raw_email' for contact 459695.\n",
      "Warning: Could not extract a name from 'raw_email' for contact 460464.\n",
      "Warning: Could not extract a name from 'raw_email' for contact 460685.\n"
     ]
    }
   ],
   "source": [
    "# Manage duplicates\n",
    "managed_duplicates_data = otf.manage_duplicates(contacts)"
   ]
  },
  {
   "cell_type": "code",
   "execution_count": 7,
   "metadata": {
    "colab": {
     "base_uri": "https://localhost:8080/",
     "height": 385
    },
    "id": "ASuipxsCKyI4",
    "outputId": "4042927f-0261-4df5-c69d-4bcec1986061"
   },
   "outputs": [
    {
     "name": "stdout",
     "output_type": "stream",
     "text": [
      "('Ireland', 'Waterford')\n"
     ]
    }
   ],
   "source": [
    "# Country recognition\n",
    "contact_id = '416102'\n",
    "country_city = otf.country_recognition(contact_id, managed_duplicates_data)\n",
    "print(country_city)"
   ]
  },
  {
   "cell_type": "code",
   "execution_count": 8,
   "metadata": {
    "colab": {
     "base_uri": "https://localhost:8080/",
     "height": 385
    },
    "id": "ASuipxsCKyI4",
    "outputId": "4042927f-0261-4df5-c69d-4bcec1986061"
   },
   "outputs": [
    {
     "name": "stdout",
     "output_type": "stream",
     "text": [
      "zoe_owen450104633@acrit.org\n"
     ]
    }
   ],
   "source": [
    "# Found email\n",
    "found_email  = otf.found_emails(contact_id, managed_duplicates_data)\n",
    "print(found_email)"
   ]
  },
  {
   "cell_type": "code",
   "execution_count": 9,
   "metadata": {
    "colab": {
     "base_uri": "https://localhost:8080/",
     "height": 385
    },
    "id": "ASuipxsCKyI4",
    "outputId": "4042927f-0261-4df5-c69d-4bcec1986061"
   },
   "outputs": [
    {
     "name": "stdout",
     "output_type": "stream",
     "text": [
      "(\\+353) 77 438 6624\n"
     ]
    }
   ],
   "source": [
    "# Fix the phone number adding country code\n",
    "fixed_number = otf.fix_phone_numbers(contact_id, managed_duplicates_data)\n",
    "print(fixed_number)"
   ]
  },
  {
   "cell_type": "code",
   "execution_count": 26,
   "metadata": {},
   "outputs": [
    {
     "name": "stdout",
     "output_type": "stream",
     "text": [
      "Ireland: 3131\n",
      "United Kingdom: 2926\n"
     ]
    },
    {
     "data": {
      "image/png": "[encoded data removed]",
      "text/plain": [
       "<Figure size 640x480 with 1 Axes>"
      ]
     },
     "metadata": {},
     "output_type": "display_data"
    }
   ],
   "source": [
    "# Plotting histogram of country frequency\n",
    "# Extract the country for each contact in managed_duplicates_data\n",
    "countries = [contact[\"properties\"][\"Country\"] for contact in managed_duplicates_data if \"Country\" in contact[\"properties\"]]\n",
    "\n",
    "# Count the frequency of each country\n",
    "country_counts = Counter(countries)\n",
    "\n",
    "# Print the frequency of each country\n",
    "for country, count in country_counts.items():\n",
    "    print(f\"{country}: {count}\")\n",
    "    \n",
    "# Create a bar chart of the country counts\n",
    "plt.bar(country_counts.keys(), country_counts.values())\n",
    "\n",
    "# Add labels and title\n",
    "plt.xlabel('Country')\n",
    "plt.ylabel('Count')\n",
    "plt.title('Frequency of Countries in managed_duplicates_data')\n",
    "\n",
    "# Display the chart\n",
    "plt.show()"
   ]
  },
  {
   "cell_type": "code",
   "execution_count": null,
   "metadata": {
    "colab": {
     "base_uri": "https://localhost:8080/",
     "height": 385
    },
    "id": "ASuipxsCKyI4",
    "outputId": "4042927f-0261-4df5-c69d-4bcec1986061"
   },
   "outputs": [],
   "source": [
    "# Transform data adding new properties and saving contacts\n",
    "\n",
    "transformed_contacts = otf.saving_contacts(managed_duplicates_data)\n",
    "print(len(transformed_contacts))"
   ]
  },
  {
   "cell_type": "code",
   "execution_count": null,
   "metadata": {
    "colab": {
     "base_uri": "https://localhost:8080/",
     "height": 385
    },
    "id": "ASuipxsCKyI4",
    "outputId": "4042927f-0261-4df5-c69d-4bcec1986061"
   },
   "outputs": [],
   "source": [
    "# Transform data adding new properties and saving contacts\n",
    "\n",
    "transformed_contacts = otf.saving_contacts(managed_duplicates_data)\n",
    "print(len(transformed_contacts))\n",
    "\n",
    "# Show an example of transformed contact\n",
    "print([0])"
   ]
  },
  {
   "cell_type": "code",
   "execution_count": null,
   "metadata": {
    "colab": {
     "base_uri": "https://localhost:8080/",
     "height": 385
    },
    "id": "ASuipxsCKyI4",
    "outputId": "4042927f-0261-4df5-c69d-4bcec1986061"
   },
   "outputs": [],
   "source": [
    "# Plotting histogram of country frequency\n",
    "countries = [c['Country'] for c in transformed_contacts if 'Country' in c]\n",
    "df = pd.DataFrame(countries, columns=['Country'])\n",
    "df['Country'].value_counts().plot.bar()"
   ]
  },
  {
   "cell_type": "code",
   "execution_count": null,
   "metadata": {},
   "outputs": [],
   "source": []
  }
 ],
 "metadata": {
  "colab": {
   "provenance": []
  },
  "kernelspec": {
   "display_name": "Python 3 (ipykernel)",
   "language": "python",
   "name": "python3"
  },
  "language_info": {
   "codemirror_mode": {
    "name": "ipython",
    "version": 3
   },
   "file_extension": ".py",
   "mimetype": "text/x-python",
   "name": "python",
   "nbconvert_exporter": "python",
   "pygments_lexer": "ipython3",
   "version": "3.9.12"
  }
 },
 "nbformat": 4,
 "nbformat_minor": 1
}
